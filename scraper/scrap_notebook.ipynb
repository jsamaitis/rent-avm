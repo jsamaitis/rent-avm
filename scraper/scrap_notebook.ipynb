{
 "cells": [
  {
   "cell_type": "markdown",
   "metadata": {},
   "source": [
    "#### This notebook is now primarily used as a scrap notebook for quick code-testing purposes."
   ]
  },
  {
   "cell_type": "code",
   "execution_count": 31,
   "metadata": {},
   "outputs": [],
   "source": [
    "from fake_useragent import UserAgent"
   ]
  },
  {
   "cell_type": "code",
   "execution_count": 40,
   "metadata": {},
   "outputs": [
    {
     "name": "stderr",
     "output_type": "stream",
     "text": [
      "[WDM] - Cache is valid for [12/06/2020]\n",
      "[WDM] - Looking for [chromedriver 83.0.4103.39 win32] driver in cache \n",
      "[WDM] - Driver found in cache [C:\\Users\\Jurgis\\.wdm\\drivers\\chromedriver\\83.0.4103.39\\win32\\chromedriver.exe]\n"
     ]
    },
    {
     "name": "stdout",
     "output_type": "stream",
     "text": [
      "Mozilla/5.0 (Windows NT 6.3; WOW64) AppleWebKit/537.36 (KHTML, like Gecko) Chrome/41.0.2225.0 Safari/537.36\n",
      " \n"
     ]
    },
    {
     "name": "stderr",
     "output_type": "stream",
     "text": [
      "<ipython-input-40-3b9d8f2d6c5e>:21: DeprecationWarning: use options instead of chrome_options\n",
      "  driver = webdriver.Chrome(ChromeDriverManager().install(), chrome_options=options, desired_capabilities=capabilities)\n"
     ]
    }
   ],
   "source": [
    "from selenium import webdriver\n",
    "from selenium.webdriver.chrome.options import Options\n",
    "\n",
    "\n",
    "options = Options()\n",
    "options.add_argument(\"window-size=1400,600\")\n",
    "from fake_useragent import UserAgent\n",
    "ua = UserAgent()\n",
    "a = ua.random\n",
    "user_agent = ua.random\n",
    "print(user_agent)\n",
    "options.add_argument(f'user-agent={user_agent}')\n",
    "\n",
    "proxy_selenium = Proxy()\n",
    "proxy_selenium.proxy_type = ProxyType.MANUAL\n",
    "proxy_selenium.http_proxy = proxy\n",
    "\n",
    "capabilities = webdriver.DesiredCapabilities.CHROME\n",
    "proxy_selenium.add_to_capabilities(capabilities)\n",
    "\n",
    "driver = webdriver.Chrome(ChromeDriverManager().install(), chrome_options=options, desired_capabilities=capabilities)\n",
    "driver.get('https://whoer.net/')\n"
   ]
  },
  {
   "cell_type": "code",
   "execution_count": 62,
   "metadata": {},
   "outputs": [],
   "source": [
    "ban = '''\n",
    "<html>\n",
    "<head>\n",
    "    <title>Aruodas.lt verification page</title>\n",
    "    <meta name=\"viewport\" content=\"width=device-width, minimum-scale=1.0, maximum-scale=1.0, user-scalable=no\"/>\n",
    "    <script src=\"https://www.google.com/recaptcha/api.js\" async defer></script>\n",
    "    <style>\n",
    "        body {\n",
    "            font-family: 'Tahoma', 'Arial', sans-serif !important;\n",
    "        }\n",
    "\n",
    "        input[type=submit], button {\n",
    "            font-weight: bold;\n",
    "            font-family: 'Tahoma', 'Arial', sans-serif !important;\n",
    "            padding: 10px 25px;\n",
    "            background: #369a04;\n",
    "            border: 0 none;\n",
    "            border-radius: 3px;\n",
    "            color: #fff;\n",
    "            font-size: 20px;\n",
    "        }\n",
    "\n",
    "        #logo {\n",
    "            display: inline-block;\n",
    "            padding-top: 20px;\n",
    "            padding-bottom: 20px;\n",
    "            border-bottom: 1px solid #ddd;\n",
    "            min-width: 300px;\n",
    "        }\n",
    "\n",
    "        #validation-form {\n",
    "            padding-top: 5px;\n",
    "            text-align: center;\n",
    "        }\n",
    "\n",
    "        .g-recaptcha {\n",
    "            display: inline-block;\n",
    "        }\n",
    "    </style>\n",
    "</head>\n",
    "<body>\n",
    "<div id=\"validation-form\">\n",
    "\n",
    "    <div id=\"logo\">\n",
    "        <img src=\"https://aruodas-static.dgn.lt/static/svg/aruodo_logo.svg\"/>\n",
    "<!--        <img src=\"--><!--/static/svg/aruodas_kaledinis_logo_2018.svg\"/>-->\n",
    "    </div>\n",
    "\n",
    "    <h3>Jūs viršijote leistiną šio puslapio peržiūros limitą.</h3>\n",
    "    Norėdami pratęsti puslapio peržiūrą mūsų svetainėje, prašome patvirtinti kad jus ne robotas    <br/><br/>\n",
    "    <form action=\"/?page_captcha_verify\" method=\"POST\">\n",
    "        <button\n",
    "                class=\"g-recaptcha\"\n",
    "                data-sitekey=\"6LdS7jEUAAAAANU9GTYMsVACX64B1ZAIvnqa9E5Z\"\n",
    "                data-callback=\"submitForm\">\n",
    "            Tęsti        </button>\n",
    "        <input type=\"hidden\" name=\"uri\" value=\"%2Fbutu-nuoma-vilniuje-senamiestyje-gedimino-pr-apartamentai-idealiai-tinka-diplomatu-4-994611%2F\">\n",
    "    </form>\n",
    "</div>\n",
    "</body>\n",
    "<script type=\"text/javascript\">\n",
    "    var form = document.forms[0];\n",
    "    function submitForm(event) {\n",
    "        form.submit();\n",
    "    }\n",
    "</script>\n",
    "</html>\n",
    "'''"
   ]
  },
  {
   "cell_type": "code",
   "execution_count": 64,
   "metadata": {},
   "outputs": [],
   "source": [
    "soup = BeautifulSoup(ban)"
   ]
  },
  {
   "cell_type": "code",
   "execution_count": 79,
   "metadata": {},
   "outputs": [
    {
     "data": {
      "text/plain": [
       "<h3>Jūs viršijote leistiną šio puslapio peržiūros limitą.</h3>"
      ]
     },
     "execution_count": 79,
     "metadata": {},
     "output_type": "execute_result"
    }
   ],
   "source": [
    "\n"
   ]
  },
  {
   "cell_type": "code",
   "execution_count": 74,
   "metadata": {},
   "outputs": [
    {
     "data": {
      "text/plain": [
       "True"
      ]
     },
     "execution_count": 74,
     "metadata": {},
     "output_type": "execute_result"
    }
   ],
   "source": [
    "soup.find('h3').contents[0] == "
   ]
  },
  {
   "cell_type": "code",
   "execution_count": 61,
   "metadata": {},
   "outputs": [
    {
     "name": "stderr",
     "output_type": "stream",
     "text": [
      "[WDM] - Cache is valid for [12/06/2020]\n",
      "[WDM] - Looking for [chromedriver 83.0.4103.39 win32] driver in cache \n",
      "[WDM] - Driver found in cache [C:\\Users\\Jurgis\\.wdm\\drivers\\chromedriver\\83.0.4103.39\\win32\\chromedriver.exe]\n"
     ]
    },
    {
     "name": "stdout",
     "output_type": "stream",
     "text": [
      "37.120.192.154:8080\n",
      " \n"
     ]
    }
   ],
   "source": [
    "#\n",
    "\n",
    "proxy =\"37.120.192.154:8080\"#requests.get('http://pubproxy.com/api/proxy').json()['data'][0]['ipPort']\n",
    "print(proxy)\n",
    "\n",
    "from selenium import webdriver\n",
    "from selenium.webdriver.common.proxy import Proxy, ProxyType\n",
    "from webdriver_manager.chrome import ChromeDriverManager\n",
    "import json\n",
    "\n",
    "proxy_selenium = Proxy()\n",
    "proxy_selenium.proxy_type = ProxyType.MANUAL\n",
    "proxy_selenium.http_proxy = proxy\n",
    "proxy_selenium.ssl_proxy = proxy\n",
    "\n",
    "capabilities = webdriver.DesiredCapabilities.CHROME\n",
    "proxy_selenium.add_to_capabilities(capabilities)\n",
    "\n",
    "driver = webdriver.Chrome(ChromeDriverManager().install(), desired_capabilities=capabilities) # , chrome_options=self.chrome_options\n",
    "driver.get('https://whoer.net/')\n",
    "\n",
    "#json.loads(driver.find_element_by_tag_name(\"body\").text)['origin']\n",
    "#driver.close()"
   ]
  },
  {
   "cell_type": "code",
   "execution_count": 26,
   "metadata": {},
   "outputs": [],
   "source": []
  },
  {
   "cell_type": "code",
   "execution_count": 28,
   "metadata": {},
   "outputs": [
    {
     "data": {
      "text/plain": [
       "'163.172.180.18'"
      ]
     },
     "execution_count": 28,
     "metadata": {},
     "output_type": "execute_result"
    }
   ],
   "source": []
  },
  {
   "cell_type": "code",
   "execution_count": null,
   "metadata": {},
   "outputs": [],
   "source": []
  },
  {
   "cell_type": "code",
   "execution_count": null,
   "metadata": {},
   "outputs": [],
   "source": []
  },
  {
   "cell_type": "code",
   "execution_count": null,
   "metadata": {},
   "outputs": [],
   "source": []
  },
  {
   "cell_type": "code",
   "execution_count": 1,
   "metadata": {},
   "outputs": [
    {
     "name": "stdout",
     "output_type": "stream",
     "text": [
      "<span class=\"price-characteristic\" content=\"4.79\" itemprop=\"lowPrice\">4</span>\n",
      "4.79\n"
     ]
    }
   ],
   "source": [
    "from bs4 import BeautifulSoup\n",
    "import requests\n",
    "\n",
    "page = requests.get('https://www.walmart.com/ip/GoGreen-Power-6-Outlet-Surge-Protector-16103MS-2-5-cord-White/46097919')\n",
    "soup = BeautifulSoup(page.text, 'html.parser')\n",
    "\n",
    "price_hide = soup.find(class_='price-characteristic')\n",
    "print(price_hide)\n",
    "\n",
    "wprice = price_hide[\"content\"]\n",
    "print(wprice)"
   ]
  },
  {
   "cell_type": "code",
   "execution_count": 2,
   "metadata": {},
   "outputs": [
    {
     "data": {
      "text/plain": [
       "'\\n\\n\\n\\n\\n\\n\\n\\n\\nGoGreen Power 6 Outlet Surge Protector, 16103MS 2.5\\' cord, White - Walmart.com - Walmart.com\\n\\n\\n\\n\\nPickup & deliveryWalmart.comSearch in ...All DepartmentsAuto & TireBabyBeautyBooksCell PhonesClothingElectronicsFoodGifts & RegistryHealthHomeHome ImprovementHousehold EssentialsJewelryMoviesMusicOfficeParty & OccasionsPatio & GardenPetsPharmacyPhoto CenterSports & OutdoorsToysVideo GamesRecent searchesClear AllCancelAccountReorderEnter LocationEnter Zip Code or city, state.Error: Please enter a valid ZIP code or city and stateUpdate locationGood news — You can still get free 2-day shipping, free pickup, & more.Continue ShoppingTry another ZIP code\\nWe’re taking steps toward real change to address racism head-on.Learn more\\n\\n\\n\\n Electrode, Comp-701261229, DC-prod-cdc02, ENV-prod-a, PROF-PROD, VER-20.0.24, SHA-2b3294e029dbf4389ec2fbffcbb2fb0775b709b3, CID-2f2b611a-785-172a35be89eb6b, Generated: Thu, 11 Jun 2020 12:30:09 GMT\\n\\n\\nElectronics/Computers/Computer Accessories/Surge Protectors & UPSThis button opens a dialog that displays additional images for this product with the option to zoom in or out.Report incorrect product informationGoGreen Power 6 Outlet Surge Protector, 16103MS 2.5\\' cord, WhiteGoGreen PowerModel: GG-16103MSWalmart #  554320335Average Rating:(4.6)out of 5 stars100 ratings, based on100reviews$4.79$4.79$4.79$4.79-$13.69$13.69$13.69$13.692-day deliveryMultipack Quantity. Select Option. Current selection is: Choose an optionMultipack Quantity: Choose an option123123456789101112Qty:Add to listAdd to registryLenovo 81JW0001US Chromebook S330, 14\" HD Display, Mediatek MT8173C CPU 4GB RAM, 32GB eMMC SSD, Chrome OS, Black381$239.00$239.00Listprice $299.00$299.00Shop Now<p>Most people have surge protectors laying around without realizing they are missing critical protection from power outages by storms or brownouts. Protecting your computers, televisions, home appliances, and more isn\\'t optional - it\\'s essential!</p> <p>With the GoGreen Power&reg; 6-Outlet Surge Protector, you won\\'t have to wonder if your devices are protected every time the lights flicker. This 15 amp, 1875 watt circuit breaker provides 160 joules of simultaneous protection for six adapters at once, making it a perfect accessory for your home office or entertainment center. With an active indicator light to confirm protection, the 6-Outlet Surge Protector should be a standard feature in every room in your home.</p> <p>Bolstered by a heavy-duty case and cord, the GoGreen 6-Outlet Surge Protector provides the environmentally-friendly design of all GoGreen products with high-end performance and efficiency for any situation.</p> <p><i>We have all thrown our items in the trash, even though it always says on the package dispose of properly. Everyone wants to recycle, but not change their lifestyle. We want to make it easy for you to recycle comfortably from your home or office. Its Free! Enter our Power By GoGreen code at www.iRecycled.com</i></p>About This ItemWe aim to show you accurate product information. Manufacturers,\\n            suppliers and others provide what you see here,\\n            and we have not verified it. See our disclaimer Most people have surge protectors laying around without realizing they are missing critical protection from power outages by storms or brownouts. Protecting your computers, televisions, home appliances, and more isn\\'t optional - it\\'s essential! With the GoGreen Power® 6-Outlet Surge Protector, you won\\'t have to wonder if your devices are protected every time the lights flicker. This 15 amp, 1875 watt circuit breaker provides 160 joules of simultaneous protection for six adapters at once, making it a perfect accessory for your home office or entertainment center. With an active indicator light to confirm protection, the 6-Outlet Surge Protector should be a standard feature in every room in your home. Bolstered by a heavy-duty case and cord, the GoGreen 6-Outlet Surge Protector provides the environmentally-friendly design of all GoGreen products with high-end performance and efficiency for any situation. We have all thrown our items in the trash, even though it always says on the package dispose of properly. Everyone wants to recycle, but not change their lifestyle. We want to make it easy for you to recycle comfortably from your home or office. Its Free! Enter our Power By GoGreen code at www.iRecycled.com Protects electronics during a power outage 15 amp circuit breaker (1875 watts) 160 joules of protection Indicator light confirms operation Right-angle plug Heavy duty structure cUL Certified / Listed Warnings:proposition 65 reasons:WARNING: This product contains chemicals known to the State of California to cause cancer andbirth defects or other reproductive harm.WARNING: This product contains chemicals known to the State of California to cause cancer andbirth defects or other reproductive harm. www.p65warnings.ca.govSpecificationsFeaturesIt is simple to use and plugs directly into your wall.BrandGoGreen PowerManufacturer Part NumberGG-16103MSAssembled Product Weight0.61 lbsAssembled Product Dimensions (L x W x H)3.00 x 10.50 x 1.25 InchesCustomer Reviews4.6Average Rating:(4.6)out of 5 stars100 reviews 5 stars764 stars163 stars52 stars01 star3 See all reviewsWrite a reviewMost helpful positive review8 customers found this helpfulAverage Rating:(5.0)out of 5 starsGreen is goodThis surge protector is a down to earth,  inexpensive connection to various electrical items.  We have an output of two lamps,  one printer,  a wax warmer unit,  and a phone charger unit.  Clean white with a green LED switch,  a side angle plug,  easy to install onto a desk or utility.  our rating is very good to excellent.See moreVSMost helpful negative reviewAverage Rating:(1.0)out of 5 starsMisleading - 90 Joules?Golden rule when buying surge protectors. Wattage to Joules ratio should be at least 1.5:1, and 2:1 if you want to be extra cautious. 90 Joules protects you for 45 Watts max plugged into this thing. That\\'s like one small desk lamp. The \"circuit breaker\" seems to be the max wattage the device can handle. This is basically no surge protection, and should be sold as a \"power strip\" onlySee moreVSMost helpful positive review8 customers found this helpfulAverage Rating:(5.0)out of 5 starsGreen is goodThis surge protector is a down to earth,  inexpensive connection to various electrical items.  We have an output of two lamps,  one printer,  a wax warmer unit,  and a phone charger unit.  Clean white with a green LED switch,  a side angle plug,  easy to install onto a desk or utility.  our rating is very good to excellent.Most helpful negative reviewAverage Rating:(1.0)out of 5 starsMisleading - 90 Joules?Golden rule when buying surge protectors. Wattage to Joules ratio should be at least 1.5:1, and 2:1 if you want to be extra cautious. 90 Joules protects you for 45 Watts max plugged into this thing. That\\'s like one small desk lamp. The \"circuit breaker\" seems to be the max wattage the device can handle. This is basically no surge protection, and should be sold as a \"power strip\" onlyThis surge protector is a down to earth,  inexpensive connection to various electrical items.  We have an output of two lamps,  one printer,  a wax warmer unit,  and a phone charger unit.  Clean white with a green LED switch,  a side angle plug,  easy to install onto a desk or utility.  our rating is very good to excellent.See moreGolden rule when buying surge protectors. Wattage to Joules ratio should be at least 1.5:1, and 2:1 if you want to be extra cautious. 90 Joules protects you for 45 Watts max plugged into this thing. That\\'s like one small desk lamp. The \"circuit breaker\" seems to be the max wattage the device can handle. This is basically no surge protection, and should be sold as a \"power strip\" onlySee moreFrequent mentionsPrice\\xa0(6)Plugs\\xa0(3)Strip\\xa0(2)Cord\\xa0(2)Value\\xa0(1)Usage\\xa0(1)Recycling\\xa0(1)Quality\\xa0(1)See more1-10 of 100 reviewsMost relevantMost helpfulNewest to oldestOldest to newestHigh to low ratingLow to high ratingSort byAverage Rating:(5.0)out of 5 starsGreen is goodThis surge protector is a down to earth,  inexpensive connection to various electrical items.  We have an output of two lamps,  one printer,  a wax warmer unit,  and a phone charger unit.  Clean white with a green LED switch,  a side angle plug,  easy to install onto a desk or utility.  our rating is very good to excellent.See moreAlphonse, May 10, 201780Average Rating:(5.0)out of 5 starsA good buyThese have worked out great for us, but the only thing that I have a problem with is the length of the cord bc it needs to be allot longer bc it\\'s just to short!!See morePriscilla47, April 8, 2020 \\xa0Verified purchaser00Average Rating:(5.0)out of 5 starsExcellent bargainThe GoGreen Power 6 Outlet Surge Protector, 16103MS 2.5\\' cord, White was a great deal and works perfectly.  The cord is longer than other surge protectors and at a fraction of the price. I am happy to have purchased three.See morejcintron, March 5, 2017 \\xa0Verified purchaser90Average Rating:(5.0)out of 5 starsVery simple and to the pointGreat price for a product I needed to plug into a bedroom outlet. Have my LED TV, XBOX 360 and my Roku plugged in. The price was spot on too and pickup at my local Walmart was excellent.See moreHockeyGuyJason, March 14, 2017 \\xa0Top 100 contributor50Average Rating:(5.0)out of 5 starsI got them and they will get used.See morebeverly, May 19, 2020 \\xa0Verified purchaser00Average Rating:(5.0)out of 5 starsWorks greatExcellent product. Love the flat plug. Short cord.See moreArmywife, May 6, 2020 \\xa0Verified purchaser00Average Rating:(5.0)out of 5 starsExcellent productVery compact and easy to move and transport to where it is needed.See moreTONY, April 4, 2020 \\xa0Verified purchaser00Average Rating:(4.0)out of 5 starsGoGreen Power 6 Outlet Surge ProtectorExcellent value for the money. Plastic and not real heavy duty, cost effective.See moreGeorge, April 27, 2020 \\xa0Verified purchaser00Average Rating:(3.0)out of 5 starsShort plug not goodThis has the shortest plug I have ever seen. Almost no good.See moreDonotorderfromyou, April 5, 2020 \\xa0Verified purchaser00Average Rating:(3.0)out of 5 starsThe thing is fun and working, I was just unhappy by receiving a used oneSee moreAlan, August 21, 201900See all 100 reviewsCustomer Q&AGet specific details about this product from customers who own it.Ask a question Ask a question If you would like to share feedback with us about pricing, delivery or other customer service issues, please contact  customer service directly.Q&A tips & guidelinesYour question (required)Additional detailsNicknameSend me an email when my question is answeredEmailI agree to the Terms and ConditionsPlease agree to the terms and conditions to continueCancelSubmitPolicies\\xa0&\\xa0PlansWarranty planPricing policyReturnsWarranty planWalmart Protection PlansMost items come with a limited manufacturer’s warranty. The addition of a Walmart Protection Plan adds extra protection from the date of purchase. Walmart Protection Plans cover the total cost of repair, or replacement, for products, as well as covering delivery charges for the exchange.Walmart Protection Plan options and pricing can be found on the product page, as well as in your cart. Go towww.walmart.com/protectionto see all the coverage offered for each product. You can view your Walmart Protection Plan after your purchase in the Walmart Protection Plan Hub.Product warranty:See detailsWarranty Information:Lifetime WarrantyAlready purchased your product? A Walmart Protection Plan can be added within 30 days of purchase.Click here\\xa0to add a Plan.Related Pages :Cases & TowersRoutersHubs & USB GadgetsDesktop ComputersUSB Wireless Network AdaptersRoutersSmart OutletsSmart Home Kits\\n\\n\\nwebapp branch\\n\\n\\n\\nEmail addressPlease enter a valid email address.Sign upMobile appsWalmart ServicesGrocery Pickup & DeliveryMoneyCenterWalmart Credit CardWalmart PayWeekly AdOther ServicesGet to Know UsOur CompanyDigital MuseumOur SuppliersSell on Walmart.comAdvertise With UsCareersWalmart.comWalmart LabsOur AdsTerms of UsePrivacy & SecurityCA Privacy RightsDo Not Sell My Personal InformationRequest My Personal InformationTax Exempt ProgramCustomer ServiceHelp CenterReturnsProduct RecallsAccessibilityContact UsStore PickupIn The SpotlightNintendo SwitchTrampolinesSewingAbove Ground PoolsPatio FurnitureInflatable Hot TubsWalmart ServicesGrocery Pickup & DeliveryGet to Know UsPrivacy & SecurityCA Privacy RightsDo Not Sell My Personal InformationRequest My Personal InformationCustomer ServiceTerms of UseShop Our Brands© 2020 Walmart. All Rights Reserved.To ensure we are able to help you as best we can, please include your reference number: FeedbackThank you for signing up!You will receive an email shortly at:\\xa0Here at Walmart.com, we are committed to protecting your privacy. Your email address will never be sold or distributed to a third party for any reason. Please take a minute to review our\\xa0Privacy PolicyHow was your experience?(1 = Unsatisfactory, 5 = Outstanding)CancelSubmitDue to high volume, we can\\'t respond to individual comments. For immediate help, please contact\\xa0Customer Care.Thank youYour feedback helps us make Walmart shopping better for millions of customers.OKThank you!Your feedback helps us make Walmart shopping better for millions of customers.Sorry...We’re having technical issues, but we’ll be back in a flash.Done\\n\\n\\n Electrode, Comp-701311963, DC-prod-cdc03, ENV-prod-a, PROF-PROD, VER-20.0.24, SHA-2b3294e029dbf4389ec2fbffcbb2fb0775b709b3, CID-84a86156-b9f-172a35c08169ed, Generated: Thu, 11 Jun 2020 12:30:17 GMT\\n\\n\\n\\n\\n Electrode, Comp-389271325, DC-prod-cdc03, ENV-prod-a, PROF-PROD, VER-35.4.0, SHA-9a36f5ffbc7d9315e87ff275a705227ca62065d3, CID-e322857b-836-172a35d885a615, Generated: Thu, 11 Jun 2020 12:31:55 GMT\\n\\n\\n\\n\\n\\nJavaScript is Disabled\\n\\nSorry, this webpage requires JavaScript to function correctly.\\n\\nPlease enable JavaScript in your browser and reload the page.\\n\\n\\n'"
      ]
     },
     "execution_count": 2,
     "metadata": {},
     "output_type": "execute_result"
    }
   ],
   "source": [
    "soup.text"
   ]
  },
  {
   "cell_type": "code",
   "execution_count": 12,
   "metadata": {},
   "outputs": [
    {
     "data": {
      "text/plain": [
       "'2020-06-05'"
      ]
     },
     "execution_count": 12,
     "metadata": {},
     "output_type": "execute_result"
    }
   ],
   "source": [
    "import datetime\n",
    "datetime.datetime.today().date().strftime('%Y-%m-%d')"
   ]
  },
  {
   "cell_type": "code",
   "execution_count": 13,
   "metadata": {},
   "outputs": [],
   "source": [
    "from google.cloud.logging import Client\n",
    "import logging"
   ]
  },
  {
   "cell_type": "code",
   "execution_count": null,
   "metadata": {},
   "outputs": [],
   "source": [
    "Client().setup_logging()"
   ]
  },
  {
   "cell_type": "code",
   "execution_count": 19,
   "metadata": {},
   "outputs": [],
   "source": [
    "import google.cloud.logging\n",
    "import os\n",
    "\n",
    "os.environ['GOOGLE_APPLICATION_CREDENTIALS'] = 'D:/Projects/Personal/Current/Rent AVM/rent-avm/scraper/key.json'\n",
    "\n",
    "# Instantiates a client\n",
    "client = google.cloud.logging.Client()\n",
    "\n",
    "# Retrieves a Cloud Logging handler based on the environment\n",
    "# you're running in and integrates the handler with the\n",
    "# Python logging module. By default this captures all logs\n",
    "# at INFO level and higher\n",
    "client.get_default_handler()\n",
    "client.setup_logging()"
   ]
  },
  {
   "cell_type": "code",
   "execution_count": 21,
   "metadata": {},
   "outputs": [
    {
     "name": "stderr",
     "output_type": "stream",
     "text": [
      "Hello, world!\n"
     ]
    }
   ],
   "source": [
    "# Imports Python standard library logging\n",
    "import logging\n",
    "\n",
    "# The data to log\n",
    "text = 'Hello, world!'\n",
    "\n",
    "# Emits the data using the standard logging module\n",
    "logging.error(text)"
   ]
  },
  {
   "cell_type": "code",
   "execution_count": null,
   "metadata": {},
   "outputs": [],
   "source": []
  },
  {
   "cell_type": "code",
   "execution_count": 94,
   "metadata": {},
   "outputs": [],
   "source": [
    "import pandas as pd"
   ]
  },
  {
   "cell_type": "code",
   "execution_count": 95,
   "metadata": {},
   "outputs": [],
   "source": [
    "df = pd.DataFrame({'a': [1, 2, 3], 'b': [3, 2, 1]})"
   ]
  },
  {
   "cell_type": "code",
   "execution_count": 96,
   "metadata": {},
   "outputs": [],
   "source": [
    "df.to_csv('test.csv', index=False)"
   ]
  },
  {
   "cell_type": "code",
   "execution_count": 123,
   "metadata": {},
   "outputs": [],
   "source": [
    "s = pd.DataFrame({'Apsauga_ČarvuotosDurys': 4, 'c': 5}, index=[0])"
   ]
  },
  {
   "cell_type": "code",
   "execution_count": 134,
   "metadata": {},
   "outputs": [],
   "source": [
    "object_data = {'a': 1, 'b': 2}"
   ]
  },
  {
   "cell_type": "code",
   "execution_count": 138,
   "metadata": {},
   "outputs": [
    {
     "data": {
      "text/plain": [
       "'ciulpk bybi'"
      ]
     },
     "execution_count": 138,
     "metadata": {},
     "output_type": "execute_result"
    }
   ],
   "source": [
    "d = {'Č':1, 'Ė':2, 'Ž':3}\n",
    "\n",
    "unidecode.unidecode('čiulpk bybį')"
   ]
  },
  {
   "cell_type": "code",
   "execution_count": 135,
   "metadata": {},
   "outputs": [
    {
     "name": "stdout",
     "output_type": "stream",
     "text": [
      "a\n",
      "a_nx\n"
     ]
    },
    {
     "ename": "RuntimeError",
     "evalue": "dictionary changed size during iteration",
     "output_type": "error",
     "traceback": [
      "\u001b[1;31m---------------------------------------------------------------------------\u001b[0m",
      "\u001b[1;31mRuntimeError\u001b[0m                              Traceback (most recent call last)",
      "\u001b[1;32m<ipython-input-135-7663adb63cdb>\u001b[0m in \u001b[0;36m<module>\u001b[1;34m\u001b[0m\n\u001b[0;32m      1\u001b[0m \u001b[0mkeys_old\u001b[0m \u001b[1;33m=\u001b[0m \u001b[0mobject_data\u001b[0m\u001b[1;33m.\u001b[0m\u001b[0mkeys\u001b[0m\u001b[1;33m(\u001b[0m\u001b[1;33m)\u001b[0m\u001b[1;33m\u001b[0m\u001b[1;33m\u001b[0m\u001b[0m\n\u001b[1;32m----> 2\u001b[1;33m \u001b[1;32mfor\u001b[0m \u001b[0mkey\u001b[0m \u001b[1;32min\u001b[0m \u001b[0mkeys_old\u001b[0m\u001b[1;33m:\u001b[0m\u001b[1;33m\u001b[0m\u001b[1;33m\u001b[0m\u001b[0m\n\u001b[0m\u001b[0;32m      3\u001b[0m     \u001b[0mkey_new\u001b[0m \u001b[1;33m=\u001b[0m \u001b[0mkey\u001b[0m \u001b[1;33m+\u001b[0m \u001b[1;34m\"_nx\"\u001b[0m\u001b[1;33m\u001b[0m\u001b[1;33m\u001b[0m\u001b[0m\n\u001b[0;32m      4\u001b[0m     \u001b[0mobject_data\u001b[0m\u001b[1;33m[\u001b[0m\u001b[0mkey_new\u001b[0m\u001b[1;33m]\u001b[0m \u001b[1;33m=\u001b[0m \u001b[0mobject_data\u001b[0m\u001b[1;33m[\u001b[0m\u001b[0mkey\u001b[0m\u001b[1;33m]\u001b[0m\u001b[1;33m\u001b[0m\u001b[1;33m\u001b[0m\u001b[0m\n\u001b[0;32m      5\u001b[0m     \u001b[0mprint\u001b[0m\u001b[1;33m(\u001b[0m\u001b[0mkey\u001b[0m\u001b[1;33m)\u001b[0m\u001b[1;33m\u001b[0m\u001b[1;33m\u001b[0m\u001b[0m\n",
      "\u001b[1;31mRuntimeError\u001b[0m: dictionary changed size during iteration"
     ]
    }
   ],
   "source": [
    "keys_old = object_data.keys()\n",
    "for key in keys_old:\n",
    "    key_new = key + \"_nx\"\n",
    "    object_data[key_new] = object_data[key]\n",
    "    print(key)\n",
    "    print(key_new)\n",
    "\n",
    "del object_data[keys_old]"
   ]
  },
  {
   "cell_type": "code",
   "execution_count": 133,
   "metadata": {},
   "outputs": [
    {
     "name": "stdout",
     "output_type": "stream",
     "text": [
      "a\n",
      "b\n"
     ]
    }
   ],
   "source": [
    "for key in {'a':1, 'b':2}.keys():\n",
    "    print(key)"
   ]
  },
  {
   "cell_type": "code",
   "execution_count": 132,
   "metadata": {},
   "outputs": [
    {
     "data": {
      "text/plain": [
       "'Apsauga_EarvuotosDurys'"
      ]
     },
     "execution_count": 132,
     "metadata": {},
     "output_type": "execute_result"
    }
   ],
   "source": [
    "import unidecode\n",
    "unidecode.unidecode('Apsauga_ĖarvuotosDurys')"
   ]
  },
  {
   "cell_type": "code",
   "execution_count": 130,
   "metadata": {},
   "outputs": [
    {
     "data": {
      "text/plain": [
       "'Apsauga_SarvuotosDurys'"
      ]
     },
     "execution_count": 130,
     "metadata": {},
     "output_type": "execute_result"
    }
   ],
   "source": [
    "unaccented_string"
   ]
  },
  {
   "cell_type": "code",
   "execution_count": 124,
   "metadata": {},
   "outputs": [],
   "source": [
    "s.to_gbq('rent_avm.test', project_id='rent-avm', if_exists='replace', progress_bar=False)"
   ]
  },
  {
   "cell_type": "code",
   "execution_count": 112,
   "metadata": {},
   "outputs": [],
   "source": [
    "app.add_url_rule()"
   ]
  },
  {
   "cell_type": "code",
   "execution_count": 113,
   "metadata": {},
   "outputs": [
    {
     "data": {
      "text/plain": [
       "22"
      ]
     },
     "execution_count": 113,
     "metadata": {},
     "output_type": "execute_result"
    }
   ],
   "source": [
    "len('Apsauga_ŠarvuotosDurys')"
   ]
  },
  {
   "cell_type": "code",
   "execution_count": null,
   "metadata": {},
   "outputs": [],
   "source": [
    "gcloud functions deploy scraper --runtime python37 --trigger-http --region europe-west1 --memory 2048 "
   ]
  },
  {
   "cell_type": "code",
   "execution_count": null,
   "metadata": {},
   "outputs": [],
   "source": []
  },
  {
   "cell_type": "code",
   "execution_count": 111,
   "metadata": {},
   "outputs": [],
   "source": [
    "from flask import Flask, request\n",
    "\n",
    "if __name__ == '__main__':\n",
    "\n",
    "    app = Flask(__name__)\n",
    "\n",
    "    app.add_url_rule('/scrape', 'scrape', scrape, methods=['POST', 'GET'], defaults={'request': request})\n",
    "\n",
    "    app.run(host='localhost', port=8080, debug=False)"
   ]
  },
  {
   "cell_type": "code",
   "execution_count": null,
   "metadata": {},
   "outputs": [],
   "source": [
    "import requests\n",
    "import proxyscrape\n",
    "\n",
    "collector = proxyscrape.create_collector('collector', 'http')\n"
   ]
  },
  {
   "cell_type": "code",
   "execution_count": 74,
   "metadata": {},
   "outputs": [
    {
     "name": "stdout",
     "output_type": "stream",
     "text": [
      "77.252.26.71:57348\n"
     ]
    },
    {
     "ename": "ProxyError",
     "evalue": "HTTPConnectionPool(host='77.252.26.71', port=57348): Max retries exceeded with url: http://httpbin.org/ip (Caused by ProxyError('Cannot connect to proxy.', NewConnectionError('<urllib3.connection.HTTPConnection object at 0x0000026D25259BB0>: Failed to establish a new connection: [WinError 10060] A connection attempt failed because the connected party did not properly respond after a period of time, or established connection failed because connected host has failed to respond')))",
     "output_type": "error",
     "traceback": [
      "\u001b[1;31m---------------------------------------------------------------------------\u001b[0m",
      "\u001b[1;31mTimeoutError\u001b[0m                              Traceback (most recent call last)",
      "\u001b[1;32mE:\\Anaconda-3-7\\envs\\rent_avm\\lib\\site-packages\\urllib3\\connection.py\u001b[0m in \u001b[0;36m_new_conn\u001b[1;34m(self)\u001b[0m\n\u001b[0;32m    158\u001b[0m         \u001b[1;32mtry\u001b[0m\u001b[1;33m:\u001b[0m\u001b[1;33m\u001b[0m\u001b[1;33m\u001b[0m\u001b[0m\n\u001b[1;32m--> 159\u001b[1;33m             conn = connection.create_connection(\n\u001b[0m\u001b[0;32m    160\u001b[0m                 \u001b[1;33m(\u001b[0m\u001b[0mself\u001b[0m\u001b[1;33m.\u001b[0m\u001b[0m_dns_host\u001b[0m\u001b[1;33m,\u001b[0m \u001b[0mself\u001b[0m\u001b[1;33m.\u001b[0m\u001b[0mport\u001b[0m\u001b[1;33m)\u001b[0m\u001b[1;33m,\u001b[0m \u001b[0mself\u001b[0m\u001b[1;33m.\u001b[0m\u001b[0mtimeout\u001b[0m\u001b[1;33m,\u001b[0m \u001b[1;33m**\u001b[0m\u001b[0mextra_kw\u001b[0m\u001b[1;33m\u001b[0m\u001b[1;33m\u001b[0m\u001b[0m\n",
      "\u001b[1;32mE:\\Anaconda-3-7\\envs\\rent_avm\\lib\\site-packages\\urllib3\\util\\connection.py\u001b[0m in \u001b[0;36mcreate_connection\u001b[1;34m(address, timeout, source_address, socket_options)\u001b[0m\n\u001b[0;32m     83\u001b[0m     \u001b[1;32mif\u001b[0m \u001b[0merr\u001b[0m \u001b[1;32mis\u001b[0m \u001b[1;32mnot\u001b[0m \u001b[1;32mNone\u001b[0m\u001b[1;33m:\u001b[0m\u001b[1;33m\u001b[0m\u001b[1;33m\u001b[0m\u001b[0m\n\u001b[1;32m---> 84\u001b[1;33m         \u001b[1;32mraise\u001b[0m \u001b[0merr\u001b[0m\u001b[1;33m\u001b[0m\u001b[1;33m\u001b[0m\u001b[0m\n\u001b[0m\u001b[0;32m     85\u001b[0m \u001b[1;33m\u001b[0m\u001b[0m\n",
      "\u001b[1;32mE:\\Anaconda-3-7\\envs\\rent_avm\\lib\\site-packages\\urllib3\\util\\connection.py\u001b[0m in \u001b[0;36mcreate_connection\u001b[1;34m(address, timeout, source_address, socket_options)\u001b[0m\n\u001b[0;32m     73\u001b[0m                 \u001b[0msock\u001b[0m\u001b[1;33m.\u001b[0m\u001b[0mbind\u001b[0m\u001b[1;33m(\u001b[0m\u001b[0msource_address\u001b[0m\u001b[1;33m)\u001b[0m\u001b[1;33m\u001b[0m\u001b[1;33m\u001b[0m\u001b[0m\n\u001b[1;32m---> 74\u001b[1;33m             \u001b[0msock\u001b[0m\u001b[1;33m.\u001b[0m\u001b[0mconnect\u001b[0m\u001b[1;33m(\u001b[0m\u001b[0msa\u001b[0m\u001b[1;33m)\u001b[0m\u001b[1;33m\u001b[0m\u001b[1;33m\u001b[0m\u001b[0m\n\u001b[0m\u001b[0;32m     75\u001b[0m             \u001b[1;32mreturn\u001b[0m \u001b[0msock\u001b[0m\u001b[1;33m\u001b[0m\u001b[1;33m\u001b[0m\u001b[0m\n",
      "\u001b[1;31mTimeoutError\u001b[0m: [WinError 10060] A connection attempt failed because the connected party did not properly respond after a period of time, or established connection failed because connected host has failed to respond",
      "\nDuring handling of the above exception, another exception occurred:\n",
      "\u001b[1;31mNewConnectionError\u001b[0m                        Traceback (most recent call last)",
      "\u001b[1;32mE:\\Anaconda-3-7\\envs\\rent_avm\\lib\\site-packages\\urllib3\\connectionpool.py\u001b[0m in \u001b[0;36murlopen\u001b[1;34m(self, method, url, body, headers, retries, redirect, assert_same_host, timeout, pool_timeout, release_conn, chunked, body_pos, **response_kw)\u001b[0m\n\u001b[0;32m    669\u001b[0m             \u001b[1;31m# Make the request on the httplib connection object.\u001b[0m\u001b[1;33m\u001b[0m\u001b[1;33m\u001b[0m\u001b[1;33m\u001b[0m\u001b[0m\n\u001b[1;32m--> 670\u001b[1;33m             httplib_response = self._make_request(\n\u001b[0m\u001b[0;32m    671\u001b[0m                 \u001b[0mconn\u001b[0m\u001b[1;33m,\u001b[0m\u001b[1;33m\u001b[0m\u001b[1;33m\u001b[0m\u001b[0m\n",
      "\u001b[1;32mE:\\Anaconda-3-7\\envs\\rent_avm\\lib\\site-packages\\urllib3\\connectionpool.py\u001b[0m in \u001b[0;36m_make_request\u001b[1;34m(self, conn, method, url, timeout, chunked, **httplib_request_kw)\u001b[0m\n\u001b[0;32m    391\u001b[0m         \u001b[1;32melse\u001b[0m\u001b[1;33m:\u001b[0m\u001b[1;33m\u001b[0m\u001b[1;33m\u001b[0m\u001b[0m\n\u001b[1;32m--> 392\u001b[1;33m             \u001b[0mconn\u001b[0m\u001b[1;33m.\u001b[0m\u001b[0mrequest\u001b[0m\u001b[1;33m(\u001b[0m\u001b[0mmethod\u001b[0m\u001b[1;33m,\u001b[0m \u001b[0murl\u001b[0m\u001b[1;33m,\u001b[0m \u001b[1;33m**\u001b[0m\u001b[0mhttplib_request_kw\u001b[0m\u001b[1;33m)\u001b[0m\u001b[1;33m\u001b[0m\u001b[1;33m\u001b[0m\u001b[0m\n\u001b[0m\u001b[0;32m    393\u001b[0m \u001b[1;33m\u001b[0m\u001b[0m\n",
      "\u001b[1;32mE:\\Anaconda-3-7\\envs\\rent_avm\\lib\\http\\client.py\u001b[0m in \u001b[0;36mrequest\u001b[1;34m(self, method, url, body, headers, encode_chunked)\u001b[0m\n\u001b[0;32m   1229\u001b[0m         \u001b[1;34m\"\"\"Send a complete request to the server.\"\"\"\u001b[0m\u001b[1;33m\u001b[0m\u001b[1;33m\u001b[0m\u001b[0m\n\u001b[1;32m-> 1230\u001b[1;33m         \u001b[0mself\u001b[0m\u001b[1;33m.\u001b[0m\u001b[0m_send_request\u001b[0m\u001b[1;33m(\u001b[0m\u001b[0mmethod\u001b[0m\u001b[1;33m,\u001b[0m \u001b[0murl\u001b[0m\u001b[1;33m,\u001b[0m \u001b[0mbody\u001b[0m\u001b[1;33m,\u001b[0m \u001b[0mheaders\u001b[0m\u001b[1;33m,\u001b[0m \u001b[0mencode_chunked\u001b[0m\u001b[1;33m)\u001b[0m\u001b[1;33m\u001b[0m\u001b[1;33m\u001b[0m\u001b[0m\n\u001b[0m\u001b[0;32m   1231\u001b[0m \u001b[1;33m\u001b[0m\u001b[0m\n",
      "\u001b[1;32mE:\\Anaconda-3-7\\envs\\rent_avm\\lib\\http\\client.py\u001b[0m in \u001b[0;36m_send_request\u001b[1;34m(self, method, url, body, headers, encode_chunked)\u001b[0m\n\u001b[0;32m   1275\u001b[0m             \u001b[0mbody\u001b[0m \u001b[1;33m=\u001b[0m \u001b[0m_encode\u001b[0m\u001b[1;33m(\u001b[0m\u001b[0mbody\u001b[0m\u001b[1;33m,\u001b[0m \u001b[1;34m'body'\u001b[0m\u001b[1;33m)\u001b[0m\u001b[1;33m\u001b[0m\u001b[1;33m\u001b[0m\u001b[0m\n\u001b[1;32m-> 1276\u001b[1;33m         \u001b[0mself\u001b[0m\u001b[1;33m.\u001b[0m\u001b[0mendheaders\u001b[0m\u001b[1;33m(\u001b[0m\u001b[0mbody\u001b[0m\u001b[1;33m,\u001b[0m \u001b[0mencode_chunked\u001b[0m\u001b[1;33m=\u001b[0m\u001b[0mencode_chunked\u001b[0m\u001b[1;33m)\u001b[0m\u001b[1;33m\u001b[0m\u001b[1;33m\u001b[0m\u001b[0m\n\u001b[0m\u001b[0;32m   1277\u001b[0m \u001b[1;33m\u001b[0m\u001b[0m\n",
      "\u001b[1;32mE:\\Anaconda-3-7\\envs\\rent_avm\\lib\\http\\client.py\u001b[0m in \u001b[0;36mendheaders\u001b[1;34m(self, message_body, encode_chunked)\u001b[0m\n\u001b[0;32m   1224\u001b[0m             \u001b[1;32mraise\u001b[0m \u001b[0mCannotSendHeader\u001b[0m\u001b[1;33m(\u001b[0m\u001b[1;33m)\u001b[0m\u001b[1;33m\u001b[0m\u001b[1;33m\u001b[0m\u001b[0m\n\u001b[1;32m-> 1225\u001b[1;33m         \u001b[0mself\u001b[0m\u001b[1;33m.\u001b[0m\u001b[0m_send_output\u001b[0m\u001b[1;33m(\u001b[0m\u001b[0mmessage_body\u001b[0m\u001b[1;33m,\u001b[0m \u001b[0mencode_chunked\u001b[0m\u001b[1;33m=\u001b[0m\u001b[0mencode_chunked\u001b[0m\u001b[1;33m)\u001b[0m\u001b[1;33m\u001b[0m\u001b[1;33m\u001b[0m\u001b[0m\n\u001b[0m\u001b[0;32m   1226\u001b[0m \u001b[1;33m\u001b[0m\u001b[0m\n",
      "\u001b[1;32mE:\\Anaconda-3-7\\envs\\rent_avm\\lib\\http\\client.py\u001b[0m in \u001b[0;36m_send_output\u001b[1;34m(self, message_body, encode_chunked)\u001b[0m\n\u001b[0;32m   1003\u001b[0m         \u001b[1;32mdel\u001b[0m \u001b[0mself\u001b[0m\u001b[1;33m.\u001b[0m\u001b[0m_buffer\u001b[0m\u001b[1;33m[\u001b[0m\u001b[1;33m:\u001b[0m\u001b[1;33m]\u001b[0m\u001b[1;33m\u001b[0m\u001b[1;33m\u001b[0m\u001b[0m\n\u001b[1;32m-> 1004\u001b[1;33m         \u001b[0mself\u001b[0m\u001b[1;33m.\u001b[0m\u001b[0msend\u001b[0m\u001b[1;33m(\u001b[0m\u001b[0mmsg\u001b[0m\u001b[1;33m)\u001b[0m\u001b[1;33m\u001b[0m\u001b[1;33m\u001b[0m\u001b[0m\n\u001b[0m\u001b[0;32m   1005\u001b[0m \u001b[1;33m\u001b[0m\u001b[0m\n",
      "\u001b[1;32mE:\\Anaconda-3-7\\envs\\rent_avm\\lib\\http\\client.py\u001b[0m in \u001b[0;36msend\u001b[1;34m(self, data)\u001b[0m\n\u001b[0;32m    943\u001b[0m             \u001b[1;32mif\u001b[0m \u001b[0mself\u001b[0m\u001b[1;33m.\u001b[0m\u001b[0mauto_open\u001b[0m\u001b[1;33m:\u001b[0m\u001b[1;33m\u001b[0m\u001b[1;33m\u001b[0m\u001b[0m\n\u001b[1;32m--> 944\u001b[1;33m                 \u001b[0mself\u001b[0m\u001b[1;33m.\u001b[0m\u001b[0mconnect\u001b[0m\u001b[1;33m(\u001b[0m\u001b[1;33m)\u001b[0m\u001b[1;33m\u001b[0m\u001b[1;33m\u001b[0m\u001b[0m\n\u001b[0m\u001b[0;32m    945\u001b[0m             \u001b[1;32melse\u001b[0m\u001b[1;33m:\u001b[0m\u001b[1;33m\u001b[0m\u001b[1;33m\u001b[0m\u001b[0m\n",
      "\u001b[1;32mE:\\Anaconda-3-7\\envs\\rent_avm\\lib\\site-packages\\urllib3\\connection.py\u001b[0m in \u001b[0;36mconnect\u001b[1;34m(self)\u001b[0m\n\u001b[0;32m    186\u001b[0m     \u001b[1;32mdef\u001b[0m \u001b[0mconnect\u001b[0m\u001b[1;33m(\u001b[0m\u001b[0mself\u001b[0m\u001b[1;33m)\u001b[0m\u001b[1;33m:\u001b[0m\u001b[1;33m\u001b[0m\u001b[1;33m\u001b[0m\u001b[0m\n\u001b[1;32m--> 187\u001b[1;33m         \u001b[0mconn\u001b[0m \u001b[1;33m=\u001b[0m \u001b[0mself\u001b[0m\u001b[1;33m.\u001b[0m\u001b[0m_new_conn\u001b[0m\u001b[1;33m(\u001b[0m\u001b[1;33m)\u001b[0m\u001b[1;33m\u001b[0m\u001b[1;33m\u001b[0m\u001b[0m\n\u001b[0m\u001b[0;32m    188\u001b[0m         \u001b[0mself\u001b[0m\u001b[1;33m.\u001b[0m\u001b[0m_prepare_conn\u001b[0m\u001b[1;33m(\u001b[0m\u001b[0mconn\u001b[0m\u001b[1;33m)\u001b[0m\u001b[1;33m\u001b[0m\u001b[1;33m\u001b[0m\u001b[0m\n",
      "\u001b[1;32mE:\\Anaconda-3-7\\envs\\rent_avm\\lib\\site-packages\\urllib3\\connection.py\u001b[0m in \u001b[0;36m_new_conn\u001b[1;34m(self)\u001b[0m\n\u001b[0;32m    170\u001b[0m         \u001b[1;32mexcept\u001b[0m \u001b[0mSocketError\u001b[0m \u001b[1;32mas\u001b[0m \u001b[0me\u001b[0m\u001b[1;33m:\u001b[0m\u001b[1;33m\u001b[0m\u001b[1;33m\u001b[0m\u001b[0m\n\u001b[1;32m--> 171\u001b[1;33m             raise NewConnectionError(\n\u001b[0m\u001b[0;32m    172\u001b[0m                 \u001b[0mself\u001b[0m\u001b[1;33m,\u001b[0m \u001b[1;34m\"Failed to establish a new connection: %s\"\u001b[0m \u001b[1;33m%\u001b[0m \u001b[0me\u001b[0m\u001b[1;33m\u001b[0m\u001b[1;33m\u001b[0m\u001b[0m\n",
      "\u001b[1;31mNewConnectionError\u001b[0m: <urllib3.connection.HTTPConnection object at 0x0000026D25259BB0>: Failed to establish a new connection: [WinError 10060] A connection attempt failed because the connected party did not properly respond after a period of time, or established connection failed because connected host has failed to respond",
      "\nDuring handling of the above exception, another exception occurred:\n",
      "\u001b[1;31mMaxRetryError\u001b[0m                             Traceback (most recent call last)",
      "\u001b[1;32mE:\\Anaconda-3-7\\envs\\rent_avm\\lib\\site-packages\\requests\\adapters.py\u001b[0m in \u001b[0;36msend\u001b[1;34m(self, request, stream, timeout, verify, cert, proxies)\u001b[0m\n\u001b[0;32m    438\u001b[0m             \u001b[1;32mif\u001b[0m \u001b[1;32mnot\u001b[0m \u001b[0mchunked\u001b[0m\u001b[1;33m:\u001b[0m\u001b[1;33m\u001b[0m\u001b[1;33m\u001b[0m\u001b[0m\n\u001b[1;32m--> 439\u001b[1;33m                 resp = conn.urlopen(\n\u001b[0m\u001b[0;32m    440\u001b[0m                     \u001b[0mmethod\u001b[0m\u001b[1;33m=\u001b[0m\u001b[0mrequest\u001b[0m\u001b[1;33m.\u001b[0m\u001b[0mmethod\u001b[0m\u001b[1;33m,\u001b[0m\u001b[1;33m\u001b[0m\u001b[1;33m\u001b[0m\u001b[0m\n",
      "\u001b[1;32mE:\\Anaconda-3-7\\envs\\rent_avm\\lib\\site-packages\\urllib3\\connectionpool.py\u001b[0m in \u001b[0;36murlopen\u001b[1;34m(self, method, url, body, headers, retries, redirect, assert_same_host, timeout, pool_timeout, release_conn, chunked, body_pos, **response_kw)\u001b[0m\n\u001b[0;32m    723\u001b[0m \u001b[1;33m\u001b[0m\u001b[0m\n\u001b[1;32m--> 724\u001b[1;33m             retries = retries.increment(\n\u001b[0m\u001b[0;32m    725\u001b[0m                 \u001b[0mmethod\u001b[0m\u001b[1;33m,\u001b[0m \u001b[0murl\u001b[0m\u001b[1;33m,\u001b[0m \u001b[0merror\u001b[0m\u001b[1;33m=\u001b[0m\u001b[0me\u001b[0m\u001b[1;33m,\u001b[0m \u001b[0m_pool\u001b[0m\u001b[1;33m=\u001b[0m\u001b[0mself\u001b[0m\u001b[1;33m,\u001b[0m \u001b[0m_stacktrace\u001b[0m\u001b[1;33m=\u001b[0m\u001b[0msys\u001b[0m\u001b[1;33m.\u001b[0m\u001b[0mexc_info\u001b[0m\u001b[1;33m(\u001b[0m\u001b[1;33m)\u001b[0m\u001b[1;33m[\u001b[0m\u001b[1;36m2\u001b[0m\u001b[1;33m]\u001b[0m\u001b[1;33m\u001b[0m\u001b[1;33m\u001b[0m\u001b[0m\n",
      "\u001b[1;32mE:\\Anaconda-3-7\\envs\\rent_avm\\lib\\site-packages\\urllib3\\util\\retry.py\u001b[0m in \u001b[0;36mincrement\u001b[1;34m(self, method, url, response, error, _pool, _stacktrace)\u001b[0m\n\u001b[0;32m    438\u001b[0m         \u001b[1;32mif\u001b[0m \u001b[0mnew_retry\u001b[0m\u001b[1;33m.\u001b[0m\u001b[0mis_exhausted\u001b[0m\u001b[1;33m(\u001b[0m\u001b[1;33m)\u001b[0m\u001b[1;33m:\u001b[0m\u001b[1;33m\u001b[0m\u001b[1;33m\u001b[0m\u001b[0m\n\u001b[1;32m--> 439\u001b[1;33m             \u001b[1;32mraise\u001b[0m \u001b[0mMaxRetryError\u001b[0m\u001b[1;33m(\u001b[0m\u001b[0m_pool\u001b[0m\u001b[1;33m,\u001b[0m \u001b[0murl\u001b[0m\u001b[1;33m,\u001b[0m \u001b[0merror\u001b[0m \u001b[1;32mor\u001b[0m \u001b[0mResponseError\u001b[0m\u001b[1;33m(\u001b[0m\u001b[0mcause\u001b[0m\u001b[1;33m)\u001b[0m\u001b[1;33m)\u001b[0m\u001b[1;33m\u001b[0m\u001b[1;33m\u001b[0m\u001b[0m\n\u001b[0m\u001b[0;32m    440\u001b[0m \u001b[1;33m\u001b[0m\u001b[0m\n",
      "\u001b[1;31mMaxRetryError\u001b[0m: HTTPConnectionPool(host='77.252.26.71', port=57348): Max retries exceeded with url: http://httpbin.org/ip (Caused by ProxyError('Cannot connect to proxy.', NewConnectionError('<urllib3.connection.HTTPConnection object at 0x0000026D25259BB0>: Failed to establish a new connection: [WinError 10060] A connection attempt failed because the connected party did not properly respond after a period of time, or established connection failed because connected host has failed to respond')))",
      "\nDuring handling of the above exception, another exception occurred:\n",
      "\u001b[1;31mProxyError\u001b[0m                                Traceback (most recent call last)",
      "\u001b[1;32m<ipython-input-74-89bf22753ef2>\u001b[0m in \u001b[0;36m<module>\u001b[1;34m\u001b[0m\n\u001b[0;32m     10\u001b[0m \u001b[1;33m\u001b[0m\u001b[0m\n\u001b[0;32m     11\u001b[0m \u001b[1;31m# Check if the connection works.\u001b[0m\u001b[1;33m\u001b[0m\u001b[1;33m\u001b[0m\u001b[1;33m\u001b[0m\u001b[0m\n\u001b[1;32m---> 12\u001b[1;33m \u001b[0msession\u001b[0m\u001b[1;33m.\u001b[0m\u001b[0mget\u001b[0m\u001b[1;33m(\u001b[0m\u001b[1;34m'http://httpbin.org/ip'\u001b[0m\u001b[1;33m)\u001b[0m\u001b[1;33m.\u001b[0m\u001b[0mjson\u001b[0m\u001b[1;33m(\u001b[0m\u001b[1;33m)\u001b[0m\u001b[1;33m[\u001b[0m\u001b[1;34m'origin'\u001b[0m\u001b[1;33m]\u001b[0m\u001b[1;33m\u001b[0m\u001b[1;33m\u001b[0m\u001b[0m\n\u001b[0m",
      "\u001b[1;32mE:\\Anaconda-3-7\\envs\\rent_avm\\lib\\site-packages\\requests\\sessions.py\u001b[0m in \u001b[0;36mget\u001b[1;34m(self, url, **kwargs)\u001b[0m\n\u001b[0;32m    541\u001b[0m \u001b[1;33m\u001b[0m\u001b[0m\n\u001b[0;32m    542\u001b[0m         \u001b[0mkwargs\u001b[0m\u001b[1;33m.\u001b[0m\u001b[0msetdefault\u001b[0m\u001b[1;33m(\u001b[0m\u001b[1;34m'allow_redirects'\u001b[0m\u001b[1;33m,\u001b[0m \u001b[1;32mTrue\u001b[0m\u001b[1;33m)\u001b[0m\u001b[1;33m\u001b[0m\u001b[1;33m\u001b[0m\u001b[0m\n\u001b[1;32m--> 543\u001b[1;33m         \u001b[1;32mreturn\u001b[0m \u001b[0mself\u001b[0m\u001b[1;33m.\u001b[0m\u001b[0mrequest\u001b[0m\u001b[1;33m(\u001b[0m\u001b[1;34m'GET'\u001b[0m\u001b[1;33m,\u001b[0m \u001b[0murl\u001b[0m\u001b[1;33m,\u001b[0m \u001b[1;33m**\u001b[0m\u001b[0mkwargs\u001b[0m\u001b[1;33m)\u001b[0m\u001b[1;33m\u001b[0m\u001b[1;33m\u001b[0m\u001b[0m\n\u001b[0m\u001b[0;32m    544\u001b[0m \u001b[1;33m\u001b[0m\u001b[0m\n\u001b[0;32m    545\u001b[0m     \u001b[1;32mdef\u001b[0m \u001b[0moptions\u001b[0m\u001b[1;33m(\u001b[0m\u001b[0mself\u001b[0m\u001b[1;33m,\u001b[0m \u001b[0murl\u001b[0m\u001b[1;33m,\u001b[0m \u001b[1;33m**\u001b[0m\u001b[0mkwargs\u001b[0m\u001b[1;33m)\u001b[0m\u001b[1;33m:\u001b[0m\u001b[1;33m\u001b[0m\u001b[1;33m\u001b[0m\u001b[0m\n",
      "\u001b[1;32mE:\\Anaconda-3-7\\envs\\rent_avm\\lib\\site-packages\\requests\\sessions.py\u001b[0m in \u001b[0;36mrequest\u001b[1;34m(self, method, url, params, data, headers, cookies, files, auth, timeout, allow_redirects, proxies, hooks, stream, verify, cert, json)\u001b[0m\n\u001b[0;32m    528\u001b[0m         }\n\u001b[0;32m    529\u001b[0m         \u001b[0msend_kwargs\u001b[0m\u001b[1;33m.\u001b[0m\u001b[0mupdate\u001b[0m\u001b[1;33m(\u001b[0m\u001b[0msettings\u001b[0m\u001b[1;33m)\u001b[0m\u001b[1;33m\u001b[0m\u001b[1;33m\u001b[0m\u001b[0m\n\u001b[1;32m--> 530\u001b[1;33m         \u001b[0mresp\u001b[0m \u001b[1;33m=\u001b[0m \u001b[0mself\u001b[0m\u001b[1;33m.\u001b[0m\u001b[0msend\u001b[0m\u001b[1;33m(\u001b[0m\u001b[0mprep\u001b[0m\u001b[1;33m,\u001b[0m \u001b[1;33m**\u001b[0m\u001b[0msend_kwargs\u001b[0m\u001b[1;33m)\u001b[0m\u001b[1;33m\u001b[0m\u001b[1;33m\u001b[0m\u001b[0m\n\u001b[0m\u001b[0;32m    531\u001b[0m \u001b[1;33m\u001b[0m\u001b[0m\n\u001b[0;32m    532\u001b[0m         \u001b[1;32mreturn\u001b[0m \u001b[0mresp\u001b[0m\u001b[1;33m\u001b[0m\u001b[1;33m\u001b[0m\u001b[0m\n",
      "\u001b[1;32mE:\\Anaconda-3-7\\envs\\rent_avm\\lib\\site-packages\\requests\\sessions.py\u001b[0m in \u001b[0;36msend\u001b[1;34m(self, request, **kwargs)\u001b[0m\n\u001b[0;32m    641\u001b[0m \u001b[1;33m\u001b[0m\u001b[0m\n\u001b[0;32m    642\u001b[0m         \u001b[1;31m# Send the request\u001b[0m\u001b[1;33m\u001b[0m\u001b[1;33m\u001b[0m\u001b[1;33m\u001b[0m\u001b[0m\n\u001b[1;32m--> 643\u001b[1;33m         \u001b[0mr\u001b[0m \u001b[1;33m=\u001b[0m \u001b[0madapter\u001b[0m\u001b[1;33m.\u001b[0m\u001b[0msend\u001b[0m\u001b[1;33m(\u001b[0m\u001b[0mrequest\u001b[0m\u001b[1;33m,\u001b[0m \u001b[1;33m**\u001b[0m\u001b[0mkwargs\u001b[0m\u001b[1;33m)\u001b[0m\u001b[1;33m\u001b[0m\u001b[1;33m\u001b[0m\u001b[0m\n\u001b[0m\u001b[0;32m    644\u001b[0m \u001b[1;33m\u001b[0m\u001b[0m\n\u001b[0;32m    645\u001b[0m         \u001b[1;31m# Total elapsed time of the request (approximately)\u001b[0m\u001b[1;33m\u001b[0m\u001b[1;33m\u001b[0m\u001b[1;33m\u001b[0m\u001b[0m\n",
      "\u001b[1;32mE:\\Anaconda-3-7\\envs\\rent_avm\\lib\\site-packages\\requests\\adapters.py\u001b[0m in \u001b[0;36msend\u001b[1;34m(self, request, stream, timeout, verify, cert, proxies)\u001b[0m\n\u001b[0;32m    508\u001b[0m \u001b[1;33m\u001b[0m\u001b[0m\n\u001b[0;32m    509\u001b[0m             \u001b[1;32mif\u001b[0m \u001b[0misinstance\u001b[0m\u001b[1;33m(\u001b[0m\u001b[0me\u001b[0m\u001b[1;33m.\u001b[0m\u001b[0mreason\u001b[0m\u001b[1;33m,\u001b[0m \u001b[0m_ProxyError\u001b[0m\u001b[1;33m)\u001b[0m\u001b[1;33m:\u001b[0m\u001b[1;33m\u001b[0m\u001b[1;33m\u001b[0m\u001b[0m\n\u001b[1;32m--> 510\u001b[1;33m                 \u001b[1;32mraise\u001b[0m \u001b[0mProxyError\u001b[0m\u001b[1;33m(\u001b[0m\u001b[0me\u001b[0m\u001b[1;33m,\u001b[0m \u001b[0mrequest\u001b[0m\u001b[1;33m=\u001b[0m\u001b[0mrequest\u001b[0m\u001b[1;33m)\u001b[0m\u001b[1;33m\u001b[0m\u001b[1;33m\u001b[0m\u001b[0m\n\u001b[0m\u001b[0;32m    511\u001b[0m \u001b[1;33m\u001b[0m\u001b[0m\n\u001b[0;32m    512\u001b[0m             \u001b[1;32mif\u001b[0m \u001b[0misinstance\u001b[0m\u001b[1;33m(\u001b[0m\u001b[0me\u001b[0m\u001b[1;33m.\u001b[0m\u001b[0mreason\u001b[0m\u001b[1;33m,\u001b[0m \u001b[0m_SSLError\u001b[0m\u001b[1;33m)\u001b[0m\u001b[1;33m:\u001b[0m\u001b[1;33m\u001b[0m\u001b[1;33m\u001b[0m\u001b[0m\n",
      "\u001b[1;31mProxyError\u001b[0m: HTTPConnectionPool(host='77.252.26.71', port=57348): Max retries exceeded with url: http://httpbin.org/ip (Caused by ProxyError('Cannot connect to proxy.', NewConnectionError('<urllib3.connection.HTTPConnection object at 0x0000026D25259BB0>: Failed to establish a new connection: [WinError 10060] A connection attempt failed because the connected party did not properly respond after a period of time, or established connection failed because connected host has failed to respond')))"
     ]
    }
   ],
   "source": [
    "proxy_obj = collector.get_proxy({'code': ('lt', 'lv', 'pl', 'de'), 'anonymous': True})\n",
    "proxy = proxy_obj.host + \":\" + proxy_obj.port\n",
    "print(proxy)\n",
    "session = requests.session()\n",
    "session.proxies = {\n",
    "    'http': proxy,\n",
    "    'https': proxy\n",
    "}\n",
    "\n",
    "\n",
    "# Check if the connection works.\n",
    "session.get('http://httpbin.org/ip').json()['origin']"
   ]
  },
  {
   "cell_type": "code",
   "execution_count": 60,
   "metadata": {},
   "outputs": [
    {
     "data": {
      "text/plain": [
       "'46.20.59.243:47497'"
      ]
     },
     "execution_count": 60,
     "metadata": {},
     "output_type": "execute_result"
    }
   ],
   "source": []
  },
  {
   "cell_type": "code",
   "execution_count": 45,
   "metadata": {},
   "outputs": [
    {
     "data": {
      "text/plain": [
       "'195.123.208.164'"
      ]
     },
     "execution_count": 45,
     "metadata": {},
     "output_type": "execute_result"
    }
   ],
   "source": []
  },
  {
   "cell_type": "code",
   "execution_count": 43,
   "metadata": {},
   "outputs": [
    {
     "data": {
      "text/plain": [
       "'190.103.178.13'"
      ]
     },
     "execution_count": 43,
     "metadata": {},
     "output_type": "execute_result"
    }
   ],
   "source": [
    "proxy.host"
   ]
  },
  {
   "cell_type": "code",
   "execution_count": null,
   "metadata": {},
   "outputs": [],
   "source": [
    "proxy"
   ]
  },
  {
   "cell_type": "code",
   "execution_count": 28,
   "metadata": {},
   "outputs": [
    {
     "name": "stdout",
     "output_type": "stream",
     "text": [
      "Collecting proxyscrape\n",
      "  Downloading proxyscrape-0.3.0-py2.py3-none-any.whl (20 kB)\n",
      "Requirement already satisfied: BeautifulSoup4 in e:\\anaconda-3-7\\envs\\rent_avm\\lib\\site-packages (from proxyscrape) (4.9.0)\n",
      "Requirement already satisfied: requests in e:\\anaconda-3-7\\envs\\rent_avm\\lib\\site-packages (from proxyscrape) (2.23.0)\n",
      "Requirement already satisfied: soupsieve>1.2 in e:\\anaconda-3-7\\envs\\rent_avm\\lib\\site-packages (from BeautifulSoup4->proxyscrape) (2.0)\n",
      "Requirement already satisfied: idna<3,>=2.5 in e:\\anaconda-3-7\\envs\\rent_avm\\lib\\site-packages (from requests->proxyscrape) (2.9)\n",
      "Requirement already satisfied: urllib3!=1.25.0,!=1.25.1,<1.26,>=1.21.1 in e:\\anaconda-3-7\\envs\\rent_avm\\lib\\site-packages (from requests->proxyscrape) (1.25.9)\n",
      "Requirement already satisfied: certifi>=2017.4.17 in e:\\anaconda-3-7\\envs\\rent_avm\\lib\\site-packages (from requests->proxyscrape) (2020.4.5.1)\n",
      "Requirement already satisfied: chardet<4,>=3.0.2 in e:\\anaconda-3-7\\envs\\rent_avm\\lib\\site-packages (from requests->proxyscrape) (3.0.4)\n",
      "Installing collected packages: proxyscrape\n",
      "Successfully installed proxyscrape-0.3.0\n"
     ]
    }
   ],
   "source": [
    "!pip install proxyscrape"
   ]
  },
  {
   "cell_type": "code",
   "execution_count": 1,
   "metadata": {},
   "outputs": [],
   "source": [
    "import requests\n",
    "from bs4 import BeautifulSoup"
   ]
  },
  {
   "cell_type": "code",
   "execution_count": 2,
   "metadata": {},
   "outputs": [],
   "source": [
    "def get_proxies():\n",
    "    proxy_url = 'https://premproxy.com/list/ip-port/1.htm'\n",
    "    out = requests.get(proxy_url)\n",
    "    return out"
   ]
  },
  {
   "cell_type": "code",
   "execution_count": 3,
   "metadata": {},
   "outputs": [],
   "source": [
    "out = get_proxies()"
   ]
  },
  {
   "cell_type": "code",
   "execution_count": 10,
   "metadata": {},
   "outputs": [],
   "source": [
    "import pandas as pd"
   ]
  },
  {
   "cell_type": "code",
   "execution_count": 27,
   "metadata": {},
   "outputs": [
    {
     "data": {
      "text/plain": [
       "<!DOCTYPE html>\n",
       "<html><head>\n",
       "<meta charset=\"utf-8\"/>\n",
       "<meta content=\"width=device-width, initial-scale=1, user-scalable=no\" name=\"viewport\"/>\n",
       "<link href=\"/a-img/favicon.png\" rel=\"shortcut icon\" type=\"image/x-icon\"/>\n",
       "<link href=\"/a-img/favicon.png\" rel=\"icon\" type=\"image/x-icon\"/>\n",
       "<link href=\"/a-css/topstyle.css\" rel=\"stylesheet\"/><meta content=\"Sorted by Anonymity Type Proxy List in IP:Port format. Page #1\" name=\"description\"/>\n",
       "<title>Sorted by Anonymity Type Proxy List (IP:Port) | Page #1</title>\n",
       "<link href=\"/css/http-lists/8be09b03.css\" rel=\"stylesheet\" type=\"text/css\"/>\n",
       "<script src=\"/js1/jq.js\"></script><script src=\"/js/d3858.js\"></script></head>\n",
       "<body>\n",
       "<div id=\"menu\">\n",
       "<nav class=\"navbar\" id=\"primaryMenu\">\n",
       "<div class=\"container\">\n",
       "<div class=\"navbar-header\">\n",
       "<button class=\"navbar-toggle collapsed\" data-target=\"#primaryNavbar\" data-toggle=\"collapse\" type=\"button\"> <span class=\"sr-only\">Toggle navigation</span> <span class=\"icon-bar\"></span> <span class=\"icon-bar\"></span> <span class=\"icon-bar\"></span> </button>\n",
       "</div>\n",
       "<div class=\"navbar-collapse collapse reset-padding\" id=\"primaryNavbar\">\n",
       "<ul class=\"primary-menu-links nav navbar-nav\">\n",
       "<li><a href=\"/\">Home</a></li>\n",
       "<li><a href=\"/list/\">Free Proxy List</a></li>\n",
       "<li><a href=\"/answers/\">Q&amp;A</a></li>\n",
       "<li><a href=\"/contacts/\">Contact Us</a></li>\n",
       "<li><a href=\"/cp/\">Login</a></li>\n",
       "</ul>\n",
       "<ul class=\"primary-social-menu-links nav navbar-nav navbar-right\">\n",
       "<li><a href=\"https://twitter.com/premproxy\" title=\"Follow us on Twitter\"><i class=\"fa fa-twitter\"></i></a></li>\n",
       "<li><a href=\"https://www.facebook.com/premproxies\" title=\"Follow us on Facebook\"><i class=\"fa fa-facebook\"></i></a></li>\n",
       "</ul>\n",
       "</div>\n",
       "</div>\n",
       "</nav>\n",
       "<nav class=\"navbar\" id=\"secondaryMenu\">\n",
       "<div class=\"container\">\n",
       "<div class=\"navbar-header\">\n",
       "<button class=\"navbar-toggle collapsed\" data-target=\"#secondaryNavbar\" data-toggle=\"collapse\" type=\"button\"> <span class=\"sr-only\">Toggle navigation</span> <span class=\"icon-bar\"></span> <span class=\"icon-bar\"></span> <span class=\"icon-bar\"></span> </button>\n",
       "<a href=\"/\"><img alt=\"Premium Proxy\" id=\"logotype\" src=\"/a-img/logo.png\"/></a></div>\n",
       "<div class=\"navbar-collapse collapse navbar-right reset-padding\" id=\"secondaryNavbar\">\n",
       "<ul class=\"secondary-menu-links nav navbar-nav\">\n",
       "<li class=\"dropdown\"><a class=\"dropdown-toggle\" data-toggle=\"dropdown\" href=\"#\"><em class=\"fa fa-free fa-fw\"></em>Free Services<span class=\"caret\"></span></a>\n",
       "<ul class=\"dropdown-menu\">\n",
       "<li><a href=\"/list/\" title=\"Hourly updated free proxy list\">Free Proxy List</a></li>\n",
       "<li><a href=\"/socks-list/\" title=\"Hourly updated free SOCKS list\">SOCKS List</a></li>\n",
       "<li><a href=\"/proxy-by-country/\">Proxies by Country</a></li>\n",
       "<li><a href=\"/socks-by-country/\">SOCKS by Country</a></li>\n",
       "<li><a href=\"/anonymity-test/\" title=\"Shows your IP address\">Your IP</a></li>\n",
       "<li><a href=\"/proxy-checker/\" title=\"Check your proxies\">Proxy Checker</a></li>\n",
       "<li><a href=\"/socks-checker/\" title=\"SOCKS Checker\">SOCKS Checker</a></li>\n",
       "</ul>\n",
       "</li>\n",
       "<li><a href=\"/usa/\" title=\"Semi-dedicated Premium Proxies and SOCKS from United States\"><i class=\"fa fa-usa fa-fw\"></i>USA Proxies</a></li>\n",
       "<li><a href=\"/uk/\" title=\"Semi-dedicated British Premium Proxies and SOCKS\"><i class=\"fa fa-uk fa-fw\"></i>U.K. Proxies</a></li>\n",
       "<li> <a href=\"/paid-list/\" title=\"The biggest public proxy list, API links\"><i class=\"fa fa-ppl fa-fw\"></i>Paid Proxy List</a></li>\n",
       "</ul>\n",
       "</div>\n",
       "</div>\n",
       "</nav>\n",
       "</div><div id=\"pageTitle\" style=\"padding-bottom: 10px\">\n",
       "<div class=\"container\">\n",
       "<div class=\"row\">\n",
       "<div class=\"col-md-6 col-md-offset-3\"><div class=\"section-title\"><h2>Proxy List (IP:port)</h2></div><div class=\"description\"><p>Proxies on this list are sorted by Anonymity Type</p></div></div>\n",
       "</div>\n",
       "</div>\n",
       "</div>\n",
       "<div id=\"pricing\">\n",
       "<div class=\"container\">\n",
       "<div class=\"row\">\n",
       "<div class=\"singleprice order-msg\">\n",
       "<ul id=\"ipportlist\">\n",
       "<!-- IP:Port list -->\n",
       "<li>203.202.245.58:<span class=\"rc029\"></span></li><li>150.242.182.98:<span class=\"rc029\"></span></li><li>105.29.64.217:<span class=\"rc029\"></span></li><li>203.19.92.3:<span class=\"rc029\"></span></li><li>203.19.88.51:<span class=\"rc029\"></span></li><li>192.121.232.96:<span class=\"rc029\"></span></li><li>138.94.255.227:<span class=\"rc029\"></span></li><li>41.188.164.223:<span class=\"rc029\"></span></li><li>41.188.164.222:<span class=\"rc029\"></span></li><li>105.27.237.27:<span class=\"rc029\"></span></li><li>41.188.164.216:<span class=\"rc029\"></span></li><li>105.27.238.161:<span class=\"rc029\"></span></li><li>5.160.14.130:<span class=\"r8d53\"></span></li><li>92.84.56.10:<span class=\"r2dff\"></span></li><li>103.42.253.210:<span class=\"r2300\"></span></li><li>185.107.204.141:<span class=\"r2b2f\"></span></li><li>140.227.237.154:<span class=\"reb9c\"></span></li><li>94.229.32.86:<span class=\"rff2c\"></span></li><li>94.229.32.85:<span class=\"rff2c\"></span></li><li>89.36.195.238:<span class=\"r2559\"></span></li><li>196.216.220.204:<span class=\"rb091\"></span></li><li>93.87.17.1:<span class=\"r5b93\"></span></li><li>61.118.35.94:<span class=\"r696b\"></span></li><li>195.182.152.238:<span class=\"r327f\"></span></li><li>158.58.133.106:<span class=\"rabc7\"></span></li><li>94.245.105.90:<span class=\"rc029\"></span></li><li>192.117.146.110:<span class=\"rc029\"></span></li><li>78.37.27.139:<span class=\"r070e\"></span></li><li>31.134.98.9:<span class=\"r450f\"></span></li><li>77.94.144.164:<span class=\"rff2c\"></span></li><li>203.204.200.103:<span class=\"r1465\"></span></li><li>41.139.9.47:<span class=\"r7f06\"></span></li><li>80.187.140.26:<span class=\"r7f06\"></span></li><li>88.79.82.103:<span class=\"r7f06\"></span></li><li>176.9.138.172:<span class=\"rc029\"></span></li><li>82.119.170.106:<span class=\"r7f06\"></span></li><li>95.104.54.227:<span class=\"r2938\"></span></li><li>178.134.208.126:<span class=\"rdfff\"></span></li><li>84.75.180.219:<span class=\"rc029\"></span></li><li>81.17.30.7:<span class=\"rff2c\"></span></li><li>41.169.146.2:<span class=\"r7f06\"></span></li><li>94.21.118.140:<span class=\"r84a6\"></span></li><li>197.245.230.122:<span class=\"r022f\"></span></li><li>47.90.54.45:<span class=\"r7f06\"></span></li><li>23.101.2.247:<span class=\"re786\"></span></li><li>85.62.27.5:<span class=\"r4923\"></span></li><li>102.176.160.70:<span class=\"r528b\"></span></li><li>160.119.131.114:<span class=\"rd84a\"></span></li><li>185.189.211.70:<span class=\"r7f06\"></span></li><li>89.218.5.106:<span class=\"rfe05\"></span></li><li>197.234.35.82:<span class=\"r5b93\"></span></li><li>202.179.7.158:<span class=\"r6463\"></span></li><li>202.21.124.226:<span class=\"rabc7\"></span></li><li>201.217.4.101:<span class=\"r5b93\"></span></li><li>202.131.234.142:<span class=\"r9bc2\"></span></li><li>95.65.73.200:<span class=\"r6acd\"></span></li></ul>\n",
       "<!-- End of IP:Port list -->\n",
       "</div><br/>\n",
       "<div class=\"ipportlink\">\n",
       "Want <strong>thousands</strong> of public proxies? Buy our <a href=\"/paid-list/\">Paid Proxy and SOCKS list</a> membership.\n",
       "</div>\n",
       "<div class=\"ipportlink advprice\">\n",
       "Tired of slow and bad free proxies? Try our fast and reliable <a href=\"/\">Premium Proxies and SOCKS from USA and Europe!</a>\n",
       "</div>\n",
       "</div>\n",
       "</div>\n",
       "</div><div id=\"copyright\">\n",
       "<div class=\"container\">\n",
       "<p class=\"left\">© SamAir</p>\n",
       "<p class=\"right\"><a href=\"/privacy/\" title=\"Privacy Policy\">Privacy Policy</a> </p>\n",
       "<p>Other Languages: <a href=\"/ru/\" title=\"на русском\">Русский</a></p>\n",
       "</div>\n",
       "</div>\n",
       "<script src=\"/a-js/jquery-2.2.2.min.js\"></script>\n",
       "<script src=\"/a-js/bootstrap.min.js\"></script>\n",
       "<script src=\"/a-js/main.js\"></script>\n",
       "<script>\n",
       "  (function(i,s,o,g,r,a,m){i['GoogleAnalyticsObject']=r;i[r]=i[r]||function(){\n",
       "  (i[r].q=i[r].q||[]).push(arguments)},i[r].l=1*new Date();a=s.createElement(o),\n",
       "  m=s.getElementsByTagName(o)[0];a.async=1;a.src=g;m.parentNode.insertBefore(a,m)\n",
       "  })(window,document,'script','https://www.google-analytics.com/analytics.js','ga');\n",
       "\n",
       "  ga('create', 'UA-103172814-1', 'auto');\n",
       "  ga('send', 'pageview');\n",
       "</script>\n",
       "<link href=\"/a-css/style-main.css\" rel=\"stylesheet\"/>\n",
       "</body>\n",
       "</html>"
      ]
     },
     "execution_count": 27,
     "metadata": {},
     "output_type": "execute_result"
    }
   ],
   "source": [
    "BeautifulSoup(out.content)#.find_all('li')"
   ]
  },
  {
   "cell_type": "code",
   "execution_count": 93,
   "metadata": {},
   "outputs": [
    {
     "name": "stdout",
     "output_type": "stream",
     "text": [
      "192.121.232.96:80\n"
     ]
    },
    {
     "name": "stderr",
     "output_type": "stream",
     "text": [
      "2020-06-02 12:27:50,394 [INFO] Currently there are 5 potentially working proxies for use.\n",
      "2020-06-02 12:27:50,395 [WARNING] Proxy at 192.121.232.96:80 failed. Trying a different one.\n",
      "2020-06-02 12:27:50,396 [WARNING] Expecting value: line 1 column 1 (char 0)\n"
     ]
    },
    {
     "name": "stdout",
     "output_type": "stream",
     "text": [
      "84.15.143.111:32829\n"
     ]
    },
    {
     "name": "stderr",
     "output_type": "stream",
     "text": [
      "2020-06-02 12:27:53,971 [INFO] Currently there are 4 potentially working proxies for use.\n",
      "2020-06-02 12:27:53,972 [INFO] Built a session at IP 84.15.143.111.\n"
     ]
    },
    {
     "data": {
      "text/plain": [
       "<requests.sessions.Session at 0x1734b7eb790>"
      ]
     },
     "execution_count": 93,
     "metadata": {},
     "output_type": "execute_result"
    }
   ],
   "source": [
    "class test:\n",
    "    def __init__(self):\n",
    "        \n",
    "        self.config = {\"proxies\": [\n",
    "    \"192.121.232.96:80\", \"37.123.164.8:8888\", \"178.128.206.2:80\", \"84.15.143.111:32829\", \"82.135.148.201:8081\"\n",
    "  ]}\n",
    "        self.max_retries = 3\n",
    "        \n",
    "        logging.basicConfig(\n",
    "            level=logging.INFO,\n",
    "            format=\"%(asctime)s [%(levelname)s] %(message)s\",\n",
    "            handlers=[\n",
    "                logging.StreamHandler()\n",
    "            ]\n",
    "        )\n",
    "        pass\n",
    "    \n",
    "    def get_proxy_session(self):\n",
    "        \"\"\"\n",
    "        Creates a requests.session object using proxy ports. Automatically switches to a different proxy in case of an Exception.\n",
    "\n",
    "        TODO: Automatically update proxy list.\n",
    "        \n",
    "        Returns\n",
    "        -------\n",
    "        requests.session object\n",
    "        \"\"\"\n",
    "    \n",
    "        correct_output = False\n",
    "        retries = 0\n",
    "        while (not correct_output) and (retries < self.max_retries):\n",
    "            try:\n",
    "                # Build a proxy session from the config file. Selects random item from list.\n",
    "                proxy_number = random.randint(0, len(self.config['proxies']) - 1)\n",
    "                session = requests.session()\n",
    "                session.proxies = {\n",
    "                    'http': self.config['proxies'][proxy_number],\n",
    "                    'https': self.config['proxies'][proxy_number]\n",
    "                }\n",
    "                \n",
    "                print(self.config['proxies'][proxy_number])\n",
    "                # Set additional Tor session parameters.\n",
    "                session.headers = UserAgent().random\n",
    "                \n",
    "                # Check if the connection works. \n",
    "                output = session.get('http://httpbin.org/ip')\n",
    "                \n",
    "                # If no ProxyError occurs, report number of proxies and the connected ip.\n",
    "                logging.info('Currently there are {} potentially working proxies for use.'.format(len(self.config['proxies'])))\n",
    "                logging.info('Built a session at IP {}.'.format(output.json()['origin']))\n",
    "                correct_output = True\n",
    "                \n",
    "            except Exception as e:\n",
    "                # Remove the failed proxy from the list of proxies.\n",
    "                logging.warning('Proxy at {} failed. Trying a different one.'.format(self.config['proxies'][proxy_number]))\n",
    "                logging.warning(e)\n",
    "                del self.config['proxies'][proxy_number]\n",
    "                retries += 1\n",
    "        \n",
    "        return session\n",
    "    \n",
    "test().get_proxy_session()"
   ]
  },
  {
   "cell_type": "code",
   "execution_count": null,
   "metadata": {},
   "outputs": [],
   "source": []
  },
  {
   "cell_type": "code",
   "execution_count": null,
   "metadata": {},
   "outputs": [],
   "source": [
    "correct_output = False\n",
    "        retries = 0\n",
    "        while (not correct_output) or (retries < self.max_retries):\n",
    "            try:\n",
    "                # Scrape the main page to get the total number of pages.\n",
    "                page = self.session.get(url)\n",
    "                soup = BeautifulSoup(page.content, 'html.parser')\n",
    "\n",
    "                # Extract all page number buttons to find the maximum digit value.\n",
    "                page_number_buttons = str(soup.find_all(class_=self.config['html_tags']['page_number_button']))\n",
    "                page_number_buttons = re.findall('\\d+', page_number_buttons)\n",
    "\n",
    "                total_pages = max([int(number) for number in page_number_buttons])\n",
    "\n",
    "                correct_output = True\n",
    "                return total_pages\n",
    "\n",
    "            except Exception as e:\n",
    "                logging.warning('Exception occurred at get_number_of_pages:')\n",
    "                logging.warning(e)\n",
    "\n",
    "                retries += 1\n",
    "                self.session = self.restart_tor()"
   ]
  },
  {
   "cell_type": "code",
   "execution_count": null,
   "metadata": {},
   "outputs": [],
   "source": []
  },
  {
   "cell_type": "code",
   "execution_count": 26,
   "metadata": {},
   "outputs": [],
   "source": [
    "ip_addresses = ['192.121.232.96:80', '37.123.164.8:8888', '178.128.206.2:80', '84.15.143.111:32829', '82.135.148.201:8081']"
   ]
  },
  {
   "cell_type": "code",
   "execution_count": 27,
   "metadata": {},
   "outputs": [
    {
     "name": "stdout",
     "output_type": "stream",
     "text": [
      "178.128.206.2:80\n",
      "78.58.222.15\n",
      "178.128.206.2\n"
     ]
    }
   ],
   "source": [
    "proxy_index = random.randint(0, len(ip_addresses) - 1)\n",
    "proxy = {\"http\": ip_addresses[proxy_index], \"https\": ip_addresses[proxy_index]}\n",
    "print(ip_addresses[proxy_index])\n",
    "\n",
    "session = requests.session()\n",
    "print(session.get('http://httpbin.org/ip').json()['origin'])\n",
    "\n",
    "\n",
    "session = requests.session()\n",
    "print(session.get('http://httpbin.org/ip', proxies=proxy).json()['origin'])"
   ]
  }
 ],
 "metadata": {
  "kernelspec": {
   "display_name": "Python 3",
   "language": "python",
   "name": "python3"
  },
  "language_info": {
   "codemirror_mode": {
    "name": "ipython",
    "version": 3
   },
   "file_extension": ".py",
   "mimetype": "text/x-python",
   "name": "python",
   "nbconvert_exporter": "python",
   "pygments_lexer": "ipython3",
   "version": "3.8.2"
  }
 },
 "nbformat": 4,
 "nbformat_minor": 2
}
